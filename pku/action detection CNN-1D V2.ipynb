{
 "cells": [
  {
   "cell_type": "code",
   "execution_count": 43,
   "metadata": {},
   "outputs": [],
   "source": [
    "import numpy as np\n",
    "import torch\n",
    "import torch.nn as nn\n",
    "import torch.nn.functional as F\n",
    "import h5py\n",
    "from torch.autograd import Variable\n",
    "import os\n",
    "from torch.utils.data import Dataset, DataLoader\n",
    "import statistics\n",
    "import csv\n",
    "from sklearn.metrics import confusion_matrix"
   ]
  },
  {
   "cell_type": "code",
   "execution_count": 44,
   "metadata": {},
   "outputs": [
    {
     "name": "stdout",
     "output_type": "stream",
     "text": [
      "True\n"
     ]
    }
   ],
   "source": [
    "cuda_available = torch.cuda.is_available()\n",
    "print(cuda_available)\n",
    "os.environ['CUDA_VISIBLE_DEVICES'] = '0'"
   ]
  },
  {
   "cell_type": "code",
   "execution_count": 45,
   "metadata": {},
   "outputs": [],
   "source": [
    "data_for_gene_function = torch.tensor((), dtype=torch.float64)"
   ]
  },
  {
   "cell_type": "code",
   "execution_count": 46,
   "metadata": {},
   "outputs": [],
   "source": [
    "#load data channel = subseq\n",
    "def load_file(file, flabel,subseq = 15, version = 2):\n",
    "    \n",
    "    global data_for_gene_function\n",
    "    \n",
    "    \n",
    "    f = open(file, 'r')\n",
    "    Lines = f.readlines()\n",
    "    t = 1\n",
    "    data = []\n",
    "    for line in Lines:\n",
    "        t += 1\n",
    "        line = line.split()[0:75] #75=25*3\n",
    "\n",
    "        data += line\n",
    "    \n",
    "    fl = open(flabel, 'r')\n",
    "    label = fl.readlines()[0]\n",
    "    #print (len(label))\n",
    "    \n",
    "    \n",
    "    #data\n",
    "    samples=len(label)\n",
    "    data_len= samples * subseq * 75\n",
    "    data = data[0:data_len]\n",
    "    data = [float(i) for i in data] \n",
    "    data = np.array(data)\n",
    "    data = data.reshape(samples,subseq,75)\n",
    "    \n",
    "    data_for_gene_function=data #provisoire\n",
    "    \n",
    "    if version == 2:\n",
    "        data = np.delete(data,[0,2,3,4,5,7,8,10,11,12,14],1)\n",
    "        \n",
    "\n",
    "    #label\n",
    "    label = [int(x) for x in (label)]     \n",
    "    label=np.asarray(label)\n",
    "    #print (data.shape, label.shape)\n",
    "    \n",
    "    f.close()\n",
    "\n",
    "    return data,label"
   ]
  },
  {
   "cell_type": "code",
   "execution_count": 47,
   "metadata": {},
   "outputs": [],
   "source": [
    "def load_dataset(data_path, flabel_path,subseq, version):\n",
    "    data = []\n",
    "    label = []\n",
    "    i=0\n",
    "    for filename in os.listdir(data_path):\n",
    "        data1, label1 = load_file(os.path.join(data_path,filename),os.path.join(flabel_path,filename),subseq, version)\n",
    "        data.append(torch.tensor(data1).float())\n",
    "        label.append(torch.tensor(label1))\n",
    "        i+=1\n",
    "        \n",
    "    data= torch.cat(data, 0)\n",
    "    label= torch.cat(label, 0)\n",
    "    print ('nb file = ', i)\n",
    "    \n",
    "    #print (data.shape)\n",
    "    #print (label.shape)\n",
    "    \n",
    "    return data,label"
   ]
  },
  {
   "cell_type": "code",
   "execution_count": 48,
   "metadata": {},
   "outputs": [],
   "source": [
    "class MyDataset(Dataset):\n",
    "    def __init__(self, data_path, flabel_path, subseq, version):\n",
    "        #data loading\n",
    "        data, label = load_dataset(data_path, flabel_path, subseq, version)\n",
    "        self.x = data\n",
    "        self.y = label\n",
    "        self.n_samples = data.shape[0]\n",
    "        \n",
    "        \n",
    "    def __getitem__(self, index):\n",
    "        #dataset[0]\n",
    "        return self.x[index], self.y [index]\n",
    "        \n",
    "    def __len__(self):\n",
    "        #len dataset\n",
    "        return self.n_samples\n",
    "        "
   ]
  },
  {
   "cell_type": "code",
   "execution_count": 47,
   "metadata": {},
   "outputs": [
    {
     "name": "stdout",
     "output_type": "stream",
     "text": [
      "nb file =  928\n"
     ]
    }
   ],
   "source": [
    "#load train data\n",
    "subseq = 15\n",
    "version = 2\n",
    "data_path= '/home/oussema/code/PKU-MMD/PKU_Skeleton_Renew/data/sub_train'\n",
    "flabel_path='/home/oussema/code/st-gcn/pku/pku_action_detect/train'\n",
    "\n",
    "datapku_train = MyDataset(data_path, flabel_path, subseq, version)\n",
    "dataloader_train = DataLoader(dataset=datapku_train, batch_size = 256, drop_last=True)\n"
   ]
  },
  {
   "cell_type": "code",
   "execution_count": 49,
   "metadata": {},
   "outputs": [
    {
     "name": "stdout",
     "output_type": "stream",
     "text": [
      "nb file =  130\n"
     ]
    }
   ],
   "source": [
    "#load test data\n",
    "subseq = 15\n",
    "version = 2\n",
    "data_path= '/home/oussema/code/PKU-MMD/PKU_Skeleton_Renew/data/sub_test'\n",
    "flabel_path='/home/oussema/code/st-gcn/pku/pku_action_detect/test'\n",
    "datapku_test = MyDataset(data_path, flabel_path, subseq, version )\n",
    "dataloader_test = DataLoader(dataset=datapku_test, batch_size = 1, drop_last=True)"
   ]
  },
  {
   "cell_type": "code",
   "execution_count": 50,
   "metadata": {},
   "outputs": [
    {
     "name": "stdout",
     "output_type": "stream",
     "text": [
      "nb file =  1\n"
     ]
    }
   ],
   "source": [
    "#load exemple data\n",
    "subseq = 15\n",
    "version = 2\n",
    "data_path= '/home/oussema/code/PKU-MMD/PKU_Skeleton_Renew/data/exemple'\n",
    "flabel_path='/home/oussema/code/st-gcn/pku/pku_action_detect/test'\n",
    "\n",
    "datapku_exemple = MyDataset(data_path, flabel_path, subseq, version)\n",
    "dataloader_exemple = DataLoader(dataset=datapku_exemple, batch_size = 1, drop_last=True)"
   ]
  },
  {
   "cell_type": "code",
   "execution_count": 8,
   "metadata": {},
   "outputs": [],
   "source": [
    "#afficher data\n",
    "dataiter = iter(dataloader_test)\n",
    "data = dataiter.next()\n",
    "x,y = data"
   ]
  },
  {
   "cell_type": "code",
   "execution_count": 64,
   "metadata": {},
   "outputs": [
    {
     "name": "stdout",
     "output_type": "stream",
     "text": [
      "torch.Size([1, 4, 75])\n"
     ]
    },
    {
     "data": {
      "text/plain": [
       "40817"
      ]
     },
     "execution_count": 64,
     "metadata": {},
     "output_type": "execute_result"
    }
   ],
   "source": [
    "print(x.shape)\n",
    "len(datapku_test)"
   ]
  },
  {
   "cell_type": "code",
   "execution_count": 51,
   "metadata": {},
   "outputs": [],
   "source": [
    "KERNEL_SIZE = 3\n",
    "PAD = 1\n",
    "LEARNING_RATE = 0.1\n",
    "subseq = 4\n",
    "\n",
    "#-> CONV/FC -> BatchNorm -> ReLu(or other activation) -> Dropout -> CONV/FC ->\n",
    "\n",
    "#conv1d input [batch_size, in_channels, len]\n",
    "class Classifier(nn.Module):\n",
    "    def __init__(self):\n",
    "        super().__init__()\n",
    "        self.conv = nn.Sequential(\n",
    "            \n",
    "            #nn.BatchNorm1d(subseq),\n",
    "            \n",
    "            # Layer 1: Convolution - ReLU - Max pooling - batch norm\n",
    "            nn.Conv1d(in_channels=subseq, out_channels=64, kernel_size=KERNEL_SIZE, padding=PAD),\n",
    "            #nn.BatchNorm1d(64),\n",
    "            nn.ReLU(),\n",
    "            #nn.Conv1d(in_channels=64, out_channels=64, kernel_size=KERNEL_SIZE, padding=PAD),\n",
    "            #nn.BatchNorm1d(64),\n",
    "            #nn.ReLU(),\n",
    "            #nn.Dropout(),\n",
    "            nn.MaxPool1d(kernel_size=2, stride=2),\n",
    "            \n",
    "            \n",
    "            # Layer 2: Convolution - ReLU - Max pooling\n",
    "            nn.Conv1d(in_channels=64, out_channels=128, kernel_size=KERNEL_SIZE, padding=PAD),\n",
    "            #nn.BatchNorm1d(128),\n",
    "            nn.ReLU(),\n",
    "            #nn.Conv1d(in_channels=128, out_channels=128, kernel_size=KERNEL_SIZE, padding=PAD),\n",
    "            #nn.BatchNorm1d(128),\n",
    "            #nn.ReLU(),\n",
    "            #nn.Dropout(),\n",
    "            nn.MaxPool1d(kernel_size=2, stride=2),\n",
    "            \n",
    "\n",
    "            # Layer 3: Convolution - ReLU - Max pooling\n",
    "            nn.Conv1d(in_channels=128, out_channels=256, kernel_size=KERNEL_SIZE, padding=PAD),\n",
    "            #nn.BatchNorm1d(256),\n",
    "            nn.ReLU(),\n",
    "            #nn.Conv1d(in_channels=256, out_channels=256, kernel_size=KERNEL_SIZE, padding=PAD),\n",
    "            #nn.BatchNorm1d(256),\n",
    "            #nn.ReLU(),\n",
    "            #nn.Dropout(),\n",
    "            nn.MaxPool1d(kernel_size=2, stride=2)\n",
    "            \n",
    "\n",
    "\n",
    "        )\n",
    "        # Layer 5-6-7: Fully connected linear layers\n",
    "        self.fc1 = nn.Linear(256*9, 512)\n",
    "        self.fc2 = nn.Linear(512, 128)\n",
    "        self.fc3 = nn.Linear(128, 2)\n",
    "        \n",
    "    def forward(self, x):\n",
    "        temp = self.conv(x)\n",
    "        temp = temp.view(-1,256*9)\n",
    "        temp = self.fc1(temp)\n",
    "        temp = self.fc2(temp)\n",
    "        temp = self.fc3(temp)\n",
    "        #temp = torch.softmax(temp, dim=0)\n",
    "        return temp"
   ]
  },
  {
   "cell_type": "code",
   "execution_count": 52,
   "metadata": {},
   "outputs": [
    {
     "name": "stdout",
     "output_type": "stream",
     "text": [
      "Number of parameters in the model: 1370178\n",
      "Classifier(\n",
      "  (conv): Sequential(\n",
      "    (0): Conv1d(4, 64, kernel_size=(3,), stride=(1,), padding=(1,))\n",
      "    (1): ReLU()\n",
      "    (2): MaxPool1d(kernel_size=2, stride=2, padding=0, dilation=1, ceil_mode=False)\n",
      "    (3): Conv1d(64, 128, kernel_size=(3,), stride=(1,), padding=(1,))\n",
      "    (4): ReLU()\n",
      "    (5): MaxPool1d(kernel_size=2, stride=2, padding=0, dilation=1, ceil_mode=False)\n",
      "    (6): Conv1d(128, 256, kernel_size=(3,), stride=(1,), padding=(1,))\n",
      "    (7): ReLU()\n",
      "    (8): MaxPool1d(kernel_size=2, stride=2, padding=0, dilation=1, ceil_mode=False)\n",
      "  )\n",
      "  (fc1): Linear(in_features=2304, out_features=512, bias=True)\n",
      "  (fc2): Linear(in_features=512, out_features=128, bias=True)\n",
      "  (fc3): Linear(in_features=128, out_features=2, bias=True)\n",
      ")\n"
     ]
    }
   ],
   "source": [
    "cnn = Classifier()\n",
    "if cuda_available:\n",
    "    cnn = cnn.cuda()\n",
    "    \n",
    "optimizer = torch.optim.SGD(cnn.parameters(), lr=LEARNING_RATE)\n",
    "#optimizer = torch.optim.Adam(cnn.parameters())#,weight_decay=0.04\n",
    "\n",
    "criterion = nn.CrossEntropyLoss()\n",
    "#criterion = nn.NLLLoss() \n",
    "\n",
    "pytorch_total_params = sum(p.numel() for p in cnn.parameters())\n",
    "print('Number of parameters in the model: %d' % pytorch_total_params)\n",
    "print(cnn)"
   ]
  },
  {
   "cell_type": "code",
   "execution_count": 124,
   "metadata": {
    "collapsed": true
   },
   "outputs": [
    {
     "name": "stdout",
     "output_type": "stream",
     "text": [
      "0  : \n",
      "train acc:  77.41580893374638\n",
      "train losses:  0.4947511018746542\n",
      "test acc:  78.38645662346572\n",
      "1  : \n",
      "train acc:  80.7384830618567\n",
      "train losses:  0.44660596442710826\n",
      "2  : \n",
      "train acc:  81.65750641217814\n",
      "train losses:  0.4326617953720353\n",
      "test acc:  78.68290173212142\n",
      "3  : \n",
      "train acc:  82.23443589487358\n",
      "train losses:  0.42447578488712423\n",
      "4  : \n",
      "train acc:  82.59318477066054\n",
      "train losses:  0.4178447266690967\n",
      "test acc:  79.7167846730529\n",
      "5  : \n",
      "train acc:  82.93927584024516\n",
      "train losses:  0.412615075682007\n",
      "6  : \n",
      "train acc:  83.10915692348689\n",
      "train losses:  0.4080743301570822\n",
      "test acc:  80.2435259818213\n",
      "7  : \n",
      "train acc:  83.35631724459545\n",
      "train losses:  0.4044608204488868\n",
      "8  : \n",
      "train acc:  83.49788481396357\n",
      "train losses:  0.4013576951551763\n",
      "test acc:  80.28762525418331\n",
      "9  : \n",
      "train acc:  83.59648246227641\n",
      "train losses:  0.39959967019411485\n",
      "10  : \n",
      "train acc:  83.60347756570401\n",
      "train losses:  0.3988146046144767\n",
      "test acc:  79.83438273268492\n",
      "11  : \n",
      "train acc:  83.7203957229939\n",
      "train losses:  0.3968768074040527\n",
      "12  : \n",
      "train acc:  83.7990073615136\n",
      "train losses:  0.3938570986454194\n",
      "test acc:  80.14062767964329\n",
      "13  : \n",
      "train acc:  83.84564138436428\n",
      "train losses:  0.392832010107134\n",
      "14  : \n",
      "train acc:  83.94423903267713\n",
      "train losses:  0.3927076431340935\n",
      "test acc:  80.48607197981234\n",
      "15  : \n",
      "train acc:  83.99953365977149\n",
      "train losses:  0.3908941908246828\n",
      "16  : \n",
      "train acc:  84.0311781752773\n",
      "train losses:  0.38990716514123586\n",
      "test acc:  80.44932258617733\n",
      "17  : \n",
      "train acc:  84.11978281869358\n",
      "train losses:  0.3889506240295876\n",
      "18  : \n",
      "train acc:  84.08747210286133\n",
      "train losses:  0.3874703125818394\n",
      "test acc:  80.86091579488938\n",
      "19  : \n",
      "train acc:  84.16108723893275\n",
      "train losses:  0.38739072877290714\n",
      "20  : \n",
      "train acc:  84.25735318610306\n",
      "train losses:  0.38549382699837864\n",
      "test acc:  81.15491094396943\n",
      "21  : \n",
      "train acc:  84.25668698577662\n",
      "train losses:  0.38501450775426405\n",
      "22  : \n",
      "train acc:  84.3049865094434\n",
      "train losses:  0.3845638242953873\n",
      "test acc:  81.12551142906142\n",
      "23  : \n",
      "train acc:  84.36128043702742\n",
      "train losses:  0.38376946056916444\n",
      "24  : \n",
      "train acc:  84.39558975383898\n",
      "train losses:  0.3822786069948722\n",
      "test acc:  81.14756106524243\n",
      "25  : \n",
      "train acc:  84.37127344192399\n",
      "train losses:  0.3823527916503034\n",
      "26  : \n",
      "train acc:  84.40924686053096\n",
      "train losses:  0.38170115910343344\n",
      "test acc:  81.02506308645907\n",
      "27  : \n",
      "train acc:  84.40391725791946\n",
      "train losses:  0.3818195779321544\n",
      "28  : \n",
      "train acc:  84.46853868958395\n",
      "train losses:  0.3801780370010044\n",
      "test acc:  81.44155621432246\n",
      "29  : \n",
      "train acc:  84.51916991439326\n",
      "train losses:  0.37991139910632027\n",
      "30  : \n",
      "train acc:  84.55647713267379\n",
      "train losses:  0.3788098936499996\n",
      "test acc:  81.24800940784478\n",
      "31  : \n",
      "train acc:  84.53782352353353\n",
      "train losses:  0.37887887974546225\n",
      "32  : \n",
      "train acc:  84.50617900802771\n",
      "train losses:  0.3789044717142403\n",
      "test acc:  81.6620525761325\n",
      "33  : \n",
      "train acc:  84.56780253822325\n",
      "train losses:  0.37823192649377896\n",
      "34  : \n",
      "train acc:  84.55980813430598\n",
      "train losses:  0.3780188050896641\n",
      "test acc:  81.11816155033442\n",
      "35  : \n",
      "train acc:  84.60344425568769\n",
      "train losses:  0.37790591499860376\n",
      "36  : \n",
      "train acc:  84.60877385829919\n",
      "train losses:  0.37676302133820977\n",
      "test acc:  81.55425435480315\n",
      "37  : \n",
      "train acc:  84.61576896172679\n",
      "train losses:  0.37634125288334314\n",
      "38  : \n",
      "train acc:  84.74601112554545\n",
      "train losses:  0.3756814445829839\n",
      "test acc:  81.4464561334738\n",
      "39  : \n",
      "train acc:  84.72102861330401\n",
      "train losses:  0.37522097642663804\n",
      "40  : \n",
      "train acc:  84.67606009126945\n",
      "train losses:  0.37531122898384167\n",
      "test acc:  81.9217482911532\n",
      "41  : \n",
      "train acc:  84.73934912228107\n",
      "train losses:  0.3750668833788751\n",
      "42  : \n",
      "train acc:  84.73568502048566\n",
      "train losses:  0.37469780631999106\n",
      "test acc:  81.52485483989514\n",
      "43  : \n",
      "train acc:  84.75533793011559\n",
      "train losses:  0.3743110762419554\n",
      "44  : \n",
      "train acc:  84.70304120449019\n",
      "train losses:  0.3749539518773352\n",
      "test acc:  81.81150011024818\n",
      "45  : \n",
      "train acc:  84.7486759268512\n",
      "train losses:  0.37437402619741883\n",
      "46  : \n",
      "train acc:  84.7556710302788\n",
      "train losses:  0.373814133755583\n",
      "test acc:  81.70860180807017\n",
      "47  : \n",
      "train acc:  84.80996635688352\n",
      "train losses:  0.37352557618921123\n",
      "48  : \n",
      "train acc:  84.81962626161688\n",
      "train losses:  0.373663094314292\n",
      "test acc:  81.96829752309087\n",
      "49  : \n",
      "train acc:  84.86792578528363\n",
      "train losses:  0.3724011526834029\n",
      "50  : \n",
      "train acc:  84.86093068185603\n",
      "train losses:  0.37304420797186094\n",
      "test acc:  81.86784918048852\n",
      "51  : \n",
      "train acc:  84.90456680323773\n",
      "train losses:  0.37179513877009773\n",
      "52  : \n",
      "train acc:  84.8602644815296\n",
      "train losses:  0.37223360813365863\n",
      "test acc:  81.70860180807017\n",
      "53  : \n",
      "train acc:  84.81562905965824\n",
      "train losses:  0.3720603387027267\n",
      "54  : \n",
      "train acc:  84.81995936178009\n",
      "train losses:  0.37151327983511184\n",
      "test acc:  82.01239679545287\n",
      "55  : \n",
      "train acc:  84.86659338463076\n",
      "train losses:  0.37123608258600527\n",
      "56  : \n",
      "train acc:  84.89024349621931\n",
      "train losses:  0.37119137209684366\n",
      "test acc:  81.70125192934317\n",
      "57  : \n",
      "train acc:  84.92788381466308\n",
      "train losses:  0.370136140149608\n",
      "58  : \n",
      "train acc:  84.90856400519637\n",
      "train losses:  0.3707819410914447\n",
      "test acc:  81.58855378886248\n",
      "59  : \n",
      "train acc:  84.95419872755738\n",
      "train losses:  0.36983943776364214\n",
      "60  : \n",
      "train acc:  84.94320642217114\n",
      "train losses:  0.3695075240863468\n",
      "test acc:  81.7576009995835\n",
      "61  : \n",
      "train acc:  84.98850804436894\n",
      "train losses:  0.37011538012391876\n",
      "62  : \n",
      "train acc:  84.98184604110456\n",
      "train losses:  0.3692910926791588\n",
      "test acc:  81.74045128255383\n",
      "63  : \n",
      "train acc:  84.90023650111588\n",
      "train losses:  0.37001030381018796\n",
      "64  : \n",
      "train acc:  85.03281036607709\n",
      "train losses:  0.3688765351148799\n",
      "test acc:  81.68410221231349\n",
      "65  : \n",
      "train acc:  84.98484394257353\n",
      "train losses:  0.3689809391599263\n",
      "66  : \n",
      "train acc:  85.01082575530462\n",
      "train losses:  0.36887458330433526\n",
      "test acc:  82.09324546144988\n",
      "67  : \n",
      "train acc:  85.0051630525299\n",
      "train losses:  0.3687129562828728\n",
      "68  : \n",
      "train acc:  85.08943739382433\n",
      "train losses:  0.36792947992733316\n",
      "test acc:  81.74535120170518\n",
      "69  : \n",
      "train acc:  85.02381666167017\n",
      "train losses:  0.3685254792686005\n",
      "70  : \n",
      "train acc:  85.04446887178975\n",
      "train losses:  0.36777099766116905\n",
      "test acc:  82.01484675502854\n",
      "71  : \n",
      "train acc:  85.08410779121282\n",
      "train losses:  0.36761964121420226\n",
      "72  : \n",
      "train acc:  85.04180407048399\n",
      "train losses:  0.3676588788196292\n",
      "test acc:  82.06874586569322\n",
      "73  : \n",
      "train acc:  85.08144298990706\n",
      "train losses:  0.36680718826657677\n",
      "74  : \n",
      "train acc:  85.09676559741514\n",
      "train losses:  0.36752109866551164\n",
      "test acc:  81.96339760393954\n",
      "75  : \n",
      "train acc:  85.10942340361747\n",
      "train losses:  0.366037142803136\n",
      "76  : \n",
      "train acc:  85.15239332467273\n",
      "train losses:  0.36666633272638904\n",
      "test acc:  81.56895411225715\n",
      "77  : \n",
      "train acc:  85.13906931814397\n",
      "train losses:  0.36586073417305537\n",
      "78  : \n",
      "train acc:  85.09809799806801\n",
      "train losses:  0.36664773417007396\n",
      "test acc:  81.88009897836686\n",
      "79  : \n",
      "train acc:  85.08877119349789\n",
      "train losses:  0.3667325755587617\n",
      "80  : \n",
      "train acc:  85.12707771226808\n",
      "train losses:  0.3664136202719838\n",
      "test acc:  81.97319744224221\n",
      "81  : \n",
      "train acc:  85.08777189300822\n",
      "train losses:  0.36692607227344154\n",
      "82  : \n",
      "train acc:  85.16904833283368\n",
      "train losses:  0.36606332199463665\n",
      "test acc:  81.64245289952716\n",
      "83  : \n",
      "train acc:  85.10675860231171\n",
      "train losses:  0.36558632539909447\n",
      "84  : \n",
      "train acc:  85.09676559741514\n",
      "train losses:  0.36572351766934574\n",
      "test acc:  82.05404610823922\n",
      "85  : \n",
      "train acc:  85.13373971553246\n",
      "train losses:  0.36588932622109666\n",
      "86  : \n",
      "train acc:  85.15239332467273\n",
      "train losses:  0.3652478973333543\n",
      "test acc:  81.83599970600486\n",
      "87  : \n",
      "train acc:  85.0944338962726\n",
      "train losses:  0.36578065439194135\n",
      "88  : \n",
      "train acc:  85.13773691749108\n",
      "train losses:  0.3649728038688365\n",
      "test acc:  81.55180439522748\n",
      "89  : \n",
      "train acc:  85.1430665201026\n",
      "train losses:  0.3650346130463247\n",
      "90  : \n",
      "train acc:  85.14806302255089\n",
      "train losses:  0.3647789687503116\n",
      "test acc:  81.59590366758948\n",
      "91  : \n",
      "train acc:  85.09176909496685\n",
      "train losses:  0.36500085104549296\n",
      "92  : \n",
      "train acc:  85.20668865127745\n",
      "train losses:  0.3641858834506302\n",
      "test acc:  81.90459857412353\n",
      "93  : \n",
      "train acc:  85.22434295992805\n",
      "train losses:  0.36457552217938793\n",
      "94  : \n",
      "train acc:  85.1537257253256\n",
      "train losses:  0.3647755833132885\n",
      "test acc:  81.58120391013549\n",
      "95  : \n",
      "train acc:  85.19869424736018\n",
      "train losses:  0.3643323889847705\n"
     ]
    },
    {
     "name": "stdout",
     "output_type": "stream",
     "text": [
      "96  : \n",
      "train acc:  85.23000566270278\n",
      "train losses:  0.36399339995134\n",
      "test acc:  81.80660019109685\n",
      "97  : \n",
      "train acc:  85.2479930715166\n",
      "train losses:  0.36401155022681775\n",
      "98  : \n",
      "train acc:  85.23899936710968\n",
      "train losses:  0.3639644612478722\n",
      "test acc:  81.47095572923047\n"
     ]
    }
   ],
   "source": [
    "epochs = 99\n",
    "for epoch in range (epochs):\n",
    "    correct = 0\n",
    "    train_losses = []\n",
    "    \n",
    "    cnn.train()\n",
    "    for batch_idx, (data,label) in enumerate(dataloader_train):\n",
    "        \n",
    "        if cuda_available:\n",
    "                data, label = data.cuda(), label.cuda()\n",
    "\n",
    "        optimizer.zero_grad()\n",
    "        output = cnn(data.float())\n",
    "        loss = criterion (output, label)\n",
    "        pred = output.data.max(1)[1]\n",
    "        correct += pred.eq(label).sum().item()\n",
    "        train_losses.append(loss.item())\n",
    "        \n",
    "        loss.backward()\n",
    "        optimizer.step()\n",
    "        \n",
    "    train_acc = 100*correct/len(datapku_train)\n",
    "    print(epoch,\" : \")\n",
    "    print(\"train acc: \",train_acc)\n",
    "    print(\"train losses: \",statistics.mean(train_losses))\n",
    "    \n",
    "    if epoch%2 == 0:\n",
    "        test()\n",
    "        \n"
   ]
  },
  {
   "cell_type": "code",
   "execution_count": 13,
   "metadata": {},
   "outputs": [
    {
     "name": "stdout",
     "output_type": "stream",
     "text": [
      "test acc:  84.11446211137516\n"
     ]
    }
   ],
   "source": [
    "test()"
   ]
  },
  {
   "cell_type": "code",
   "execution_count": 30,
   "metadata": {},
   "outputs": [],
   "source": [
    "#we can save optimizer parameters\n",
    "torch.save(cnn.state_dict(),'/home/oussema/code/st-gcn/pku/model/CNN-1D-V2-2cls-bn-drop')"
   ]
  },
  {
   "cell_type": "code",
   "execution_count": 53,
   "metadata": {},
   "outputs": [
    {
     "data": {
      "text/plain": [
       "<All keys matched successfully>"
      ]
     },
     "execution_count": 53,
     "metadata": {},
     "output_type": "execute_result"
    }
   ],
   "source": [
    "cnn.load_state_dict(torch.load('/home/oussema/code/st-gcn/pku/model/CNN-1D-V2-2cls'))"
   ]
  },
  {
   "cell_type": "code",
   "execution_count": 12,
   "metadata": {},
   "outputs": [],
   "source": [
    "# run a test loop\n",
    "def test():\n",
    "    test_loss = 0\n",
    "    correct = 0\n",
    "\n",
    "    cnn.eval()\n",
    "    with torch.no_grad():  \n",
    "        for batch_idx, (data,label) in enumerate(dataloader_test):\n",
    "            if cuda_available:\n",
    "                    data, label = data.cuda(), label.cuda()\n",
    "            net_out = cnn(data)\n",
    "            # sum up batch loss\n",
    "            test_loss += criterion(net_out, label).data\n",
    "            pred = net_out.data.max(1)[1]  # get the index of the max log-probability\n",
    "            correct += pred.eq(label.data).sum().item()\n",
    "            #print(label)\n",
    "            #print(pred)\n",
    "            #print(\"***\")\n",
    "        \n",
    "        test_acc = 100*correct/len(datapku_test)\n",
    "        print (\"test acc: \",test_acc)"
   ]
  },
  {
   "cell_type": "markdown",
   "metadata": {},
   "source": [
    "# TEST"
   ]
  },
  {
   "cell_type": "code",
   "execution_count": 100,
   "metadata": {
    "scrolled": true
   },
   "outputs": [
    {
     "name": "stdout",
     "output_type": "stream",
     "text": [
      "3035\n",
      "test acc:  84.58975426905457\n",
      "[[16090  4021]\n",
      " [ 2269 18437]]\n"
     ]
    }
   ],
   "source": [
    "test_loss = 0\n",
    "correct = 0\n",
    "\n",
    "action_state = 0\n",
    "action_start = 0\n",
    "action_finish = 0\n",
    "file_name = '/home/oussema/code/PKU-MMD/PKU_Skeleton_Renew/data/st-gcn data/skeleton/S001C001P001R001A00'\n",
    "action_compteur = 0\n",
    "last_label = 0\n",
    "\n",
    "label_matrix = []\n",
    "pred_matrix = []\n",
    "\n",
    "\n",
    "cnn.eval()\n",
    "with torch.no_grad():  \n",
    "    for batch_idx, (data,label) in enumerate(dataloader_test):\n",
    "        if cuda_available:\n",
    "                    data, label = data.cuda(), label.cuda()\n",
    "        net_out = cnn(data)\n",
    "        # sum up batch loss\n",
    "        test_loss += criterion(net_out, label).data\n",
    "        pred = net_out.data.max(1)[1]  # get the index of the max log-probability\n",
    "        #print(batch_idx)\n",
    "        #print(label)\n",
    "        #print(pred)\n",
    "        #print(\"***\")\n",
    "        \n",
    "        \n",
    "        \n",
    "        \n",
    "        if pred == 1 and action_state == 0:\n",
    "            action_state = 1\n",
    "            action_start = batch_idx\n",
    "            last_label = 1\n",
    "        elif pred == 0 and action_state == 1 and last_label == 1:\n",
    "            last_label = 0\n",
    "            pred = torch.tensor([1]).cuda()\n",
    "        elif pred == 0 and action_state == 1 and last_label == 0:            \n",
    "            action_state = 0\n",
    "            action_finish = batch_idx -1\n",
    "            action_duration = action_finish-action_start+1\n",
    "            action_compteur += 1 \n",
    "            last_label = 0\n",
    "            if  batch_idx == 115 :\n",
    "                label_action = 2\n",
    "            else:\n",
    "                label_action = 1\n",
    "            #gendata(file_name+str(int(label_action))+str(action_compteur), data_for_gene_function[action_start:action_finish+1],15*action_duration)\n",
    "            #print(action_start*15,\",\",action_finish*15)\n",
    "            \n",
    "        label_matrix.append(label.cpu().numpy()[0])\n",
    "        pred_matrix.append(pred.cpu().numpy()[0])\n",
    "        \n",
    "        \n",
    "        correct += pred.eq(label.data).sum().item()\n",
    "    print(action_compteur)\n",
    "        \n",
    "    test_acc = 100*correct/len(datapku_test)\n",
    "    print (\"test acc: \",test_acc)\n",
    "    \n",
    "    conf_matrix=confusion_matrix(label_matrix,pred_matrix,labels=[0, 1])\n",
    "    print(conf_matrix)\n",
    "    #label_matrix = [i for i in label_matrix if i != 0]\n",
    "    #print(len(label_matrix))\n"
   ]
  },
  {
   "cell_type": "code",
   "execution_count": 114,
   "metadata": {},
   "outputs": [
    {
     "data": {
      "text/plain": [
       "89.86666666666666"
      ]
     },
     "execution_count": 114,
     "metadata": {},
     "output_type": "execute_result"
    }
   ],
   "source": [
    "1348/15"
   ]
  },
  {
   "cell_type": "markdown",
   "metadata": {},
   "source": [
    "# data generation "
   ]
  },
  {
   "cell_type": "code",
   "execution_count": 291,
   "metadata": {},
   "outputs": [],
   "source": [
    "#ADL class = 1\n",
    "#fall class = 2"
   ]
  },
  {
   "cell_type": "code",
   "execution_count": 17,
   "metadata": {
    "scrolled": true
   },
   "outputs": [],
   "source": [
    "def gendata(outfile, data_in, nb_frame):\n",
    "    \n",
    "    #print(outfile)\n",
    "    with open(outfile, 'w',newline=\"\") as out:\n",
    "        writer = csv.writer(out,delimiter=' ')\n",
    "        \n",
    "        writer.writerow([str(nb_frame)])\n",
    "        data = data_in[0]\n",
    "        for i in range (1,int(nb_frame/15)):\n",
    "            data = np.concatenate((data, data_in[i]), axis = 0)\n",
    "\n",
    "\n",
    "        #data = data.squeeze()\n",
    "        row = [0]*3\n",
    "\n",
    "        for i in range(0,len(data)):\n",
    "            for j in range(0,len(data[0]),3):\n",
    "                row[0] = str(data[i,j])\n",
    "                row[1] = str(data[i,j+1])\n",
    "                row[2] = str(data[i,j+2])\n",
    "                writer.writerow(row)\n",
    "\n",
    "    out.close()\n",
    "    "
   ]
  },
  {
   "cell_type": "code",
   "execution_count": 28,
   "metadata": {},
   "outputs": [
    {
     "name": "stdout",
     "output_type": "stream",
     "text": [
      "/home/oussema/code/PKU-MMD/PKU_Skeleton_Renew/data/st-gcn data/skeleton/S001C001P001R001A002\n",
      "(60, 75)\n"
     ]
    }
   ],
   "source": [
    "gendata('/home/oussema/code/PKU-MMD/PKU_Skeleton_Renew/data/st-gcn data/skeleton/S001C001P001R001A002',data_for_gene_function[149:153],15*4)"
   ]
  },
  {
   "cell_type": "code",
   "execution_count": 42,
   "metadata": {},
   "outputs": [
    {
     "data": {
      "text/plain": [
       "1"
      ]
     },
     "execution_count": 42,
     "metadata": {},
     "output_type": "execute_result"
    }
   ],
   "source": [
    "int(label)"
   ]
  },
  {
   "cell_type": "markdown",
   "metadata": {},
   "source": [
    "# matrice de confusion"
   ]
  },
  {
   "cell_type": "code",
   "execution_count": 95,
   "metadata": {},
   "outputs": [],
   "source": [
    "import itertools\n",
    "import matplotlib.pyplot as plt\n",
    "\n",
    "\n",
    "def plot_confusion_matrix(cm, classes, normalize=False, title='Confusion matrix', cmap=plt.cm.Blues):\n",
    "    if normalize:\n",
    "        cm = cm.astype('float') / cm.sum(axis=1)[:, np.newaxis]\n",
    "        print(\"Normalized confusion matrix\")\n",
    "    else:\n",
    "        print('Confusion matrix, without normalization')\n",
    "\n",
    "    print(cm)\n",
    "    plt.imshow(cm, interpolation='nearest', cmap=cmap)\n",
    "    plt.title(title)\n",
    "    plt.colorbar()\n",
    "    tick_marks = np.arange(len(classes))\n",
    "    plt.xticks(tick_marks, classes, rotation=45)\n",
    "    plt.yticks(tick_marks, classes)\n",
    "\n",
    "    fmt = '.2f' if normalize else 'd'\n",
    "    thresh = cm.max() / 2.\n",
    "    for i, j in itertools.product(range(cm.shape[0]), range(cm.shape[1])):\n",
    "        plt.text(j, i, format(cm[i, j], fmt), horizontalalignment=\"center\", color=\"white\" if cm[i, j] > thresh else \"black\")\n",
    "\n",
    "    plt.tight_layout()\n",
    "    plt.ylabel('True label')\n",
    "    plt.xlabel('Predicted label')"
   ]
  },
  {
   "cell_type": "code",
   "execution_count": 101,
   "metadata": {},
   "outputs": [
    {
     "name": "stdout",
     "output_type": "stream",
     "text": [
      "Confusion matrix, without normalization\n",
      "[[16090  4021]\n",
      " [ 2269 18437]]\n"
     ]
    },
    {
     "data": {
      "image/png": "[encoded data removed]",
      "text/plain": [
       "<Figure size 432x288 with 2 Axes>"
      ]
     },
     "metadata": {
      "needs_background": "light"
     },
     "output_type": "display_data"
    }
   ],
   "source": [
    "classes = [ \"No-Action\",\"Action\"]\n",
    "plot_confusion_matrix(conf_matrix,classes)"
   ]
  },
  {
   "cell_type": "code",
   "execution_count": null,
   "metadata": {},
   "outputs": [],
   "source": []
  }
 ],
 "metadata": {
  "kernelspec": {
   "display_name": "open-mmlab",
   "language": "python",
   "name": "open-mmlab"
  },
  "language_info": {
   "codemirror_mode": {
    "name": "ipython",
    "version": 3
   },
   "file_extension": ".py",
   "mimetype": "text/x-python",
   "name": "python",
   "nbconvert_exporter": "python",
   "pygments_lexer": "ipython3",
   "version": "3.7.6"
  }
 },
 "nbformat": 4,
 "nbformat_minor": 2
}
