{
 "cells": [
  {
   "cell_type": "code",
   "execution_count": 2,
   "metadata": {},
   "outputs": [],
   "source": [
    "import torch\n",
    "import torch.nn as nn\n",
    "import torch.nn.functional as F\n",
    "import torch.optim as optim\n",
    "import numpy as  np\n",
    "import matplotlib.pyplot as plt\n",
    "import os\n",
    "from torch.utils.data import Dataset, DataLoader\n",
    "import statistics"
   ]
  },
  {
   "cell_type": "code",
   "execution_count": 3,
   "metadata": {},
   "outputs": [
    {
     "name": "stdout",
     "output_type": "stream",
     "text": [
      "True\n"
     ]
    }
   ],
   "source": [
    "cuda_available = torch.cuda.is_available()\n",
    "print(cuda_available)\n",
    "os.environ['CUDA_VISIBLE_DEVICES'] = '0'"
   ]
  },
  {
   "cell_type": "code",
   "execution_count": 4,
   "metadata": {},
   "outputs": [],
   "source": [
    "os.environ['CUDA_VISIBLE_DEVICES'] = '0'"
   ]
  },
  {
   "cell_type": "code",
   "execution_count": 27,
   "metadata": {},
   "outputs": [],
   "source": [
    "#load data (channel = subseq)\n",
    "\n",
    "def load_file(file, flabel,subseq = 10, version = 1):\n",
    "    #print(file)\n",
    "    \n",
    "    \n",
    "    \n",
    "    f = open(file, 'r')\n",
    "    Lines = f.readlines()\n",
    "    t = 1\n",
    "    data = []\n",
    "    for line in Lines:\n",
    "        t += 1\n",
    "        line = line.split()[0:75] #75=25*3\n",
    "\n",
    "        data += line\n",
    "    \n",
    "    fl = open(flabel, 'r')\n",
    "    label = fl.readlines()[0]\n",
    "    #print (len(label))\n",
    "    \n",
    "    \n",
    "    #data\n",
    "    samples=len(label)\n",
    "    data_len= samples * subseq * 75\n",
    "    data = data[0:data_len]\n",
    "    data = [float(i) for i in data] \n",
    "    data = np.array(data)\n",
    "    data = data.reshape(samples,subseq,75)\n",
    "    if version == 2:\n",
    "        data = np.delete(data,[0,2,3,4,5,7,8,10,11,12,14],1)\n",
    "        \n",
    "\n",
    "    #label\n",
    "    label = [int(x) for x in (label)]     \n",
    "    label=np.asarray(label)\n",
    "    #print (data.shape, label.shape)\n",
    "    \n",
    "    f.close()\n",
    "\n",
    "    return data,label"
   ]
  },
  {
   "cell_type": "code",
   "execution_count": 28,
   "metadata": {},
   "outputs": [],
   "source": [
    "def load_dataset(data_path, flabel_path,subseq, version):\n",
    "    data = []\n",
    "    label = []\n",
    "    i=0\n",
    "    for filename in os.listdir(data_path):\n",
    "        data1, label1 = load_file(os.path.join(data_path,filename),os.path.join(flabel_path,filename),subseq, version)\n",
    "        data.append(torch.tensor(data1).float())\n",
    "        label.append(torch.tensor(label1))\n",
    "        i+=1\n",
    "        \n",
    "    data= torch.cat(data, 0)\n",
    "    label= torch.cat(label, 0)\n",
    "    print ('nb file = ', i)\n",
    "    \n",
    "    #print (data.shape)\n",
    "    #print (label.shape)\n",
    "    \n",
    "    return data,label"
   ]
  },
  {
   "cell_type": "code",
   "execution_count": 29,
   "metadata": {},
   "outputs": [],
   "source": [
    "class MyDataset(Dataset):\n",
    "    def __init__(self, data_path, flabel_path, subseq, version):\n",
    "        #data loading\n",
    "        data, label = load_dataset(data_path, flabel_path, subseq, version)\n",
    "        self.x = data\n",
    "        self.y = label\n",
    "        self.n_samples = data.shape[0]\n",
    "        \n",
    "        \n",
    "    def __getitem__(self, index):\n",
    "        #dataset[0]\n",
    "        return self.x[index], self.y [index]\n",
    "        \n",
    "    def __len__(self):\n",
    "        #len dataset\n",
    "        return self.n_samples"
   ]
  },
  {
   "cell_type": "code",
   "execution_count": 30,
   "metadata": {},
   "outputs": [
    {
     "name": "stdout",
     "output_type": "stream",
     "text": [
      "nb file =  928\n"
     ]
    }
   ],
   "source": [
    "#load train data\n",
    "subseq = 15\n",
    "version = 2\n",
    "data_path= '/home/oussema/code/PKU-MMD/PKU_Skeleton_Renew/data/sub_train'\n",
    "flabel_path='/home/oussema/code/st-gcn/pku/pku_action_detect/train'\n",
    "\n",
    "datapku_train = MyDataset(data_path, flabel_path, subseq, version)\n",
    "dataloader_train = DataLoader(dataset=datapku_train, batch_size = 128, drop_last=True)"
   ]
  },
  {
   "cell_type": "code",
   "execution_count": 31,
   "metadata": {},
   "outputs": [
    {
     "name": "stdout",
     "output_type": "stream",
     "text": [
      "nb file =  130\n"
     ]
    }
   ],
   "source": [
    "#load test data\n",
    "subseq = 15\n",
    "version = 2\n",
    "data_path= '/home/oussema/code/PKU-MMD/PKU_Skeleton_Renew/data/sub_test'\n",
    "flabel_path='/home/oussema/code/st-gcn/pku/pku_action_detect/test'\n",
    "datapku_test = MyDataset(data_path, flabel_path, subseq, version )\n",
    "dataloader_test = DataLoader(dataset=datapku_test, batch_size = 128, drop_last=True)"
   ]
  },
  {
   "cell_type": "code",
   "execution_count": 20,
   "metadata": {},
   "outputs": [
    {
     "name": "stdout",
     "output_type": "stream",
     "text": [
      "nb file =  12\n"
     ]
    }
   ],
   "source": [
    "#load exemple data\n",
    "subseq = 15\n",
    "version = 2\n",
    "data_path= '/home/oussema/code/PKU-MMD/PKU_Skeleton_Renew/data/exemple'\n",
    "flabel_path='/home/oussema/code/st-gcn/pku/pku_action_detect/train'\n",
    "\n",
    "datapku_exemple = MyDataset(data_path, flabel_path, subseq, version)\n",
    "dataloader_exemple = DataLoader(dataset=datapku_exemple, batch_size = 2, drop_last=True)"
   ]
  },
  {
   "cell_type": "code",
   "execution_count": 32,
   "metadata": {},
   "outputs": [],
   "source": [
    "#afficher data\n",
    "dataiter = iter(dataloader_test)\n",
    "data = dataiter.next()\n",
    "x,y = data"
   ]
  },
  {
   "cell_type": "code",
   "execution_count": 33,
   "metadata": {},
   "outputs": [
    {
     "name": "stdout",
     "output_type": "stream",
     "text": [
      "torch.Size([128, 4, 75])\n"
     ]
    },
    {
     "data": {
      "text/plain": [
       "40817"
      ]
     },
     "execution_count": 33,
     "metadata": {},
     "output_type": "execute_result"
    }
   ],
   "source": [
    "print(x.shape)\n",
    "len(datapku_test)"
   ]
  },
  {
   "cell_type": "code",
   "execution_count": 34,
   "metadata": {},
   "outputs": [],
   "source": [
    "#many to one RNN-LSTM\n",
    "\n",
    "class LSTMModel(nn.Module):\n",
    "\n",
    "    def __init__(self, embedding_dim, hidden_dim, batch_first=True):\n",
    "        ''' Initialize the layers of this model.'''\n",
    "        super(LSTMModel, self).__init__()\n",
    "        \n",
    "        self.hidden_dim = hidden_dim\n",
    "\n",
    "\n",
    "        self.lstm = nn.LSTM(embedding_dim, hidden_dim)\n",
    "        \n",
    "        # linear and sigmoid layers\n",
    "        self.fc = nn.Linear(hidden_dim, 1) #output size = 1\n",
    "        self.sig = nn.Sigmoid()\n",
    "\n",
    "        \n",
    "        # initialize the hidden state (see code below)\n",
    "        #self.hidden = self.init_hidden()\n",
    "\n",
    "        \n",
    "    def init_hidden(self):\n",
    "        \n",
    "        # The axes dimensions are (n_layers, batch_size, hidden_dim)\n",
    "        return (torch.zeros(1, 4, self.hidden_dim).cuda(),\n",
    "                torch.zeros(1, 4, self.hidden_dim).cuda())\n",
    "    \n",
    "    \n",
    "\n",
    "    def forward(self, x, hidden):\n",
    "        ''' Define the feedforward behavior of the model.'''\n",
    "        \n",
    "        training_batch_size = x.size(0)\n",
    "        \n",
    "        lstm_out, hidden = self.lstm(x, hidden)#[1,4,2]    \n",
    "        lstm_out = lstm_out.contiguous().view(-1, self.hidden_dim) #[1*4,2]\n",
    "        out = self.fc(lstm_out)#[4,1]\n",
    "        sig_out = self.sig(out) #[4,1]\n",
    "        \n",
    "        sig_out = sig_out.view(training_batch_size, -1)\n",
    "\n",
    "        sig_out = sig_out[:, -1] # get last batch of labels\n",
    "\n",
    "        \n",
    "        #derniere hiden value\n",
    "        #tag_outputs = tag_outputs[:,6:]\n",
    "        \n",
    "        #tag_scores = F.log_softmax(tag_outputs, dim=1)\n",
    "        \n",
    "        return  hidden, sig_out"
   ]
  },
  {
   "cell_type": "code",
   "execution_count": 35,
   "metadata": {},
   "outputs": [],
   "source": [
    "EMBEDDING_DIM = 75\n",
    "HIDDEN_DIM = 16\n",
    "\n",
    "model = LSTMModel(EMBEDDING_DIM, HIDDEN_DIM, batch_first=True)\n",
    "\n",
    "#criterion = nn.CrossEntropyLoss()\n",
    "#criterion = nn.NLLLoss()\n",
    "criterion = nn.BCELoss()\n",
    "\n",
    "optimizer = optim.SGD(model.parameters(), lr=0.1)"
   ]
  },
  {
   "cell_type": "code",
   "execution_count": 36,
   "metadata": {},
   "outputs": [
    {
     "data": {
      "text/plain": [
       "LSTMModel(\n",
       "  (lstm): LSTM(75, 16)\n",
       "  (fc): Linear(in_features=16, out_features=1, bias=True)\n",
       "  (sig): Sigmoid()\n",
       ")"
      ]
     },
     "execution_count": 36,
     "metadata": {},
     "output_type": "execute_result"
    }
   ],
   "source": [
    "model = model.to('cuda:0')\n",
    "model"
   ]
  },
  {
   "cell_type": "code",
   "execution_count": 37,
   "metadata": {},
   "outputs": [
    {
     "name": "stdout",
     "output_type": "stream",
     "text": [
      "cuda:0\n",
      "cuda:0\n",
      "cuda:0\n",
      "cuda:0\n",
      "cuda:0\n",
      "cuda:0\n"
     ]
    }
   ],
   "source": [
    "for m in model.parameters():\n",
    "    print(m.device) #return cuda:0"
   ]
  },
  {
   "cell_type": "code",
   "execution_count": null,
   "metadata": {},
   "outputs": [
    {
     "name": "stdout",
     "output_type": "stream",
     "text": [
      "0\n",
      "0  :  69.96302588188269\n",
      "0.5678865454058403\n",
      "1\n",
      "1  :  77.2415975483828\n",
      "0.4880034649740658\n",
      "2\n",
      "2  :  78.88244895239998\n",
      "0.46512436834670334\n",
      "3\n",
      "3  :  80.07727923786683\n",
      "0.4495545879610058\n",
      "4\n",
      "4  :  80.83341660837414\n",
      "0.4395361940140155\n",
      "5\n",
      "5  :  81.32540554944872\n",
      "0.43245636576147223\n",
      "6\n"
     ]
    }
   ],
   "source": [
    "epochs = 10\n",
    "clip=5\n",
    "\n",
    "for epoch in range (epochs):\n",
    "    correct = 0\n",
    "    train_losses = []\n",
    "    print(epoch)\n",
    "    hidden = model.init_hidden()\n",
    "    \n",
    "    model.train()\n",
    "    for batch_idx, (data,label) in enumerate(dataloader_train):\n",
    "        if cuda_available:\n",
    "                data, label = data.cuda(), label.cuda()\n",
    "                \n",
    "        optimizer.zero_grad()\n",
    "                \n",
    "        # Creating new variables for the hidden state, otherwise\n",
    "        # we'd backprop through the entire training history\n",
    "        hidden= tuple([each.data for each in hidden])\n",
    "                \n",
    "        hidden, output = model(data.float(),hidden)\n",
    "\n",
    "\n",
    "        loss = criterion (output , label.float())\n",
    "        loss.backward() #retain_graph=True\n",
    "        nn.utils.clip_grad_norm_(model.parameters(), clip) #prevent exploding gradients\n",
    "        optimizer.step()\n",
    "        \n",
    "        pred = torch.round(output.squeeze())\n",
    "        correct += pred.eq(label).sum().item()\n",
    "        train_losses.append(loss.item())\n",
    "        \n",
    "        #print(pred,'******',label)\n",
    "        \n",
    "        \n",
    "        \n",
    "    train_acc = 100*correct/len(datapku_train)\n",
    "    print(epoch,\" : \",train_acc)\n",
    "    print(statistics.mean(train_losses))"
   ]
  },
  {
   "cell_type": "code",
   "execution_count": null,
   "metadata": {},
   "outputs": [],
   "source": []
  },
  {
   "cell_type": "code",
   "execution_count": null,
   "metadata": {},
   "outputs": [],
   "source": [
    "# run a test loop\n",
    "test_loss = 0\n",
    "correct = 0\n",
    "\n",
    "\n",
    "model.eval()\n",
    "hidden = model.init_hidden()\n",
    "\n",
    "with torch.no_grad():  \n",
    "    for batch_idx, (data,label) in enumerate(dataloader_train):\n",
    "        if cuda_available:\n",
    "                data, label = data.cuda(), label.cuda()\n",
    "                \n",
    "        hidden= tuple([each.data for each in hidden])\n",
    "        \n",
    "        hidden,net_out = model(data,hidden)\n",
    "        # sum up batch loss\n",
    "        test_loss += criterion(net_out, label.float()).data\n",
    "        pred = torch.round(output.squeeze())  # get the index of the max log-probability\n",
    "        correct += pred.eq(label.data).sum().item()\n",
    "\n",
    "        \n",
    "    test_acc = 100*correct/len(datapku_train)\n",
    "    print (test_acc)"
   ]
  },
  {
   "cell_type": "code",
   "execution_count": null,
   "metadata": {},
   "outputs": [],
   "source": []
  },
  {
   "cell_type": "code",
   "execution_count": null,
   "metadata": {},
   "outputs": [],
   "source": []
  },
  {
   "cell_type": "code",
   "execution_count": null,
   "metadata": {},
   "outputs": [],
   "source": []
  }
 ],
 "metadata": {
  "kernelspec": {
   "display_name": "open-mmlab",
   "language": "python",
   "name": "open-mmlab"
  },
  "language_info": {
   "codemirror_mode": {
    "name": "ipython",
    "version": 3
   },
   "file_extension": ".py",
   "mimetype": "text/x-python",
   "name": "python",
   "nbconvert_exporter": "python",
   "pygments_lexer": "ipython3",
   "version": "3.7.6"
  }
 },
 "nbformat": 4,
 "nbformat_minor": 2
}
